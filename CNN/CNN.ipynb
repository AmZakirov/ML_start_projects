{
 "cells": [
  {
   "cell_type": "markdown",
   "id": "ab3a065f-7dd3-4b61-a5c8-1909b2837a48",
   "metadata": {},
   "source": [
    "<span style='color:Blue ;\n",
    "             font-size:30px;'>\n",
    "    Свёрточная нейронная сеть.  </span><br>"
   ]
  },
  {
   "cell_type": "markdown",
   "id": "c3ed26de-e78e-49c4-b2be-e81984a54696",
   "metadata": {},
   "source": [
    "#### Importing libraries and selecting the device"
   ]
  },
  {
   "cell_type": "code",
   "execution_count": 1,
   "id": "15db8a6b-3c20-4efa-a6d6-4abc7d390c7f",
   "metadata": {},
   "outputs": [
    {
     "name": "stderr",
     "output_type": "stream",
     "text": [
      "C:\\Users\\Amir\\anaconda3\\lib\\site-packages\\torchaudio\\backend\\utils.py:74: UserWarning: No audio backend is available.\n",
      "  warnings.warn(\"No audio backend is available.\")\n"
     ]
    },
    {
     "name": "stdout",
     "output_type": "stream",
     "text": [
      "cuda:0\n"
     ]
    }
   ],
   "source": [
    "import torch\n",
    "import torchvision\n",
    "import torchvision.transforms as transforms\n",
    "from torch.utils.data import random_split\n",
    "import torch.nn as nn\n",
    "import torch.nn.functional as F\n",
    "import torch.optim as optim\n",
    "from torchmetrics import F1Score\n",
    "from torch.utils.tensorboard import SummaryWriter\n",
    "import torchvision.models as models\n",
    "\n",
    "import matplotlib.pyplot as plt\n",
    "import numpy as np\n",
    "import pandas as pd\n",
    "\n",
    "device = torch.device(\"cuda:0\" if torch.cuda.is_available() else \"cpu\")\n",
    "print(device)"
   ]
  },
  {
   "cell_type": "markdown",
   "id": "2c14a6a5-ee65-423f-8d4f-efda5cc05eea",
   "metadata": {},
   "source": [
    "<span style='color:Blue ;\n",
    "             font-size:20px;'>\n",
    "    Task 1.  </span><br>"
   ]
  },
  {
   "cell_type": "markdown",
   "id": "80f4abaf-594c-4380-902e-03fa86fbb696",
   "metadata": {},
   "source": [
    "**Main goal of Task 1:** Implementation a traffic sign classification convolutional neural network which\n",
    "will be trained on German Traffic Sign Recognition Benchmark dataset. <br>\n",
    "<br>"
   ]
  },
  {
   "cell_type": "markdown",
   "id": "c3b24574-a1d6-431b-9c12-1a470f33d9cd",
   "metadata": {},
   "source": [
    "**Task 1 steps:** <br>\n",
    "    **a) Loading dataset:** <br>\n",
    "    The uploaded dataset containing photos of road signs consists of 43 classes related to the type of road signs. <br>\n",
    "   **b) Setting up TensorBoard:** <br>\n",
    "    An object of class SummaryWriter from torch.utils.tensorboard was created. <br>\n",
    "    **c) Splitting the data Training (70%) and validation (10%) and Testing (20%):** <br>\n",
    "    The loaded dataset was split into train, test and validation with the shapes specified in the task. For verification, their percentages were calculated. <br>\n",
    "    **d) Creating Data loaders:** <br>\n",
    "    Train,validation and test images were successfully converted the to tensors. <br>\n",
    "    **e) Data visualization:** <br>\n",
    "    For example, 4 images were plotted.<br>\n",
    "    **f) Building a baseline CNN model:** <br>\n",
    "    The base line model is to be trained on 20 epochs, SGD optimizer, learning rate 0.001. The architecture of the CNN was specified in the task. <br>\n",
    "    **g) Training and metrics calculation:** <br>\n",
    "    During the training, the accuracy and f1-score were calculated on the train and validation dataset. Also the data was uploaded to tensorboard. After 20 epochs, the model was tested on a test dataset. Values of the selected metrics: <br>\n",
    "    Train: Acc= 94.7%  F1 = 94.7% <br>\n",
    "    Val: Acc= 90.8%  F1 = 90.7% <br>\n",
    "    Test: Acc= 91.3%  F1 = 91.4% <br>\n",
    "    **h) Building an improved CNN model:** <br>\n",
    "    The following functions have been almost randomly added to the architecture of baseline CNN, but Adam optimizer was selected instead of Stochastic gradient descent: <br>\n",
    "    1)nn.Dropout2d() - A regularization method in machine learning where the randomly selected neurons are dropped from the neural network to avoid overfitting <br>\n",
    "    2)nn.ReLU() - The most commonly used activation function in ML, which makes the layers as non-linear layers. <br>\n",
    "    3)nn.BatchNorm2d() - Accelerate Deep Network training by reducing internal covariate shift. <br>\n",
    "    **i) Training and metrics calculation:** <br>\n",
    "    During the training, the accuracy and f1-score were calculated on the train and validation dataset. Also the data was uploaded to tensorboard. After 20 epochs, the model was tested on a test dataset. Values of the selected metrics: <br>\n",
    "    Train: Acc= 99.1%  F1 = 99.0% <br>\n",
    "    Val: Acc= 98.1%  F1 = 97.9% <br>\n",
    "    Test: Acc= 97.8%  F1 = 97.8% <br>"
   ]
  },
  {
   "cell_type": "markdown",
   "id": "04a43fe4-0952-4c9a-8eaf-3734cde223c1",
   "metadata": {},
   "source": [
    "#### Loading dataset"
   ]
  },
  {
   "cell_type": "code",
   "execution_count": 2,
   "id": "9aa0d9a6-d48b-4372-819e-c0a436df4d77",
   "metadata": {},
   "outputs": [],
   "source": [
    "transform = transforms.Compose(\n",
    "    [transforms.ToTensor(),\n",
    "     transforms.Resize([32,32]),\n",
    "     transforms.Normalize((0.5, 0.5, 0.5), (0.5, 0.5, 0.5))])\n",
    "dataset = torchvision.datasets.GTSRB(root='./data', download=True, split='train', transform=transform)\n",
    "class_indices = [i for i in range(43)]"
   ]
  },
  {
   "cell_type": "markdown",
   "id": "f555f584-5d50-4d62-be4b-7c675abf95c6",
   "metadata": {},
   "source": [
    "#### Splitting the data Training (70%) and validation (10%) and Testing (20%)"
   ]
  },
  {
   "cell_type": "code",
   "execution_count": 3,
   "id": "762199e9-eea4-4e33-9d95-9847b8407cc3",
   "metadata": {},
   "outputs": [
    {
     "name": "stdout",
     "output_type": "stream",
     "text": [
      "Data length :  26640\n",
      "Train data percentage :  70 %\n",
      "Val data percentage :  10 %\n",
      "Test data percentage :  20 %\n"
     ]
    }
   ],
   "source": [
    "train_data,val_data,test_data =  random_split(dataset, [0.7, 0.1, 0.2])\n",
    "Data_length = len(train_data) + len(val_data) + len(test_data)\n",
    "print(\"Data length : \" , Data_length)\n",
    "print(\"Train data percentage : \", int(len(train_data)/Data_length*100),\"%\")\n",
    "print(\"Val data percentage : \", int(len(val_data)/Data_length*100),\"%\")\n",
    "print(\"Test data percentage : \", int(len(test_data)/Data_length*100) ,\"%\")"
   ]
  },
  {
   "cell_type": "markdown",
   "id": "f308407b-426f-464f-a289-f31abd7fb111",
   "metadata": {},
   "source": [
    "#### Creating Data loaders"
   ]
  },
  {
   "cell_type": "code",
   "execution_count": 4,
   "id": "5a3beb60-927b-47fe-8317-fe184e638bad",
   "metadata": {},
   "outputs": [],
   "source": [
    "batch_size = 200\n",
    "train_loader = torch.utils.data.DataLoader(train_data, batch_size=batch_size,\n",
    "                                          shuffle=True, num_workers=2)\n",
    "val_loader = torch.utils.data.DataLoader(val_data, batch_size=batch_size,\n",
    "                                          shuffle=True, num_workers=2)\n",
    "test_loader = torch.utils.data.DataLoader(test_data, batch_size=batch_size,\n",
    "                                          shuffle=True, num_workers=2)"
   ]
  },
  {
   "cell_type": "markdown",
   "id": "2d904a78-74a2-4fc3-8a5e-e3b314948d63",
   "metadata": {
    "tags": []
   },
   "source": [
    "#### Data visualization"
   ]
  },
  {
   "cell_type": "code",
   "execution_count": 5,
   "id": "2c9cbb06-e373-42a7-9a9f-897a4e8dd82a",
   "metadata": {},
   "outputs": [
    {
     "data": {
      "image/png": "[encoded data removed]",
      "text/plain": [
       "<Figure size 400x400 with 4 Axes>"
      ]
     },
     "metadata": {},
     "output_type": "display_data"
    }
   ],
   "source": [
    "def convert_image(img):\n",
    "    img = img / 2 + 0.5     # unnormalize\n",
    "    npimg = img.numpy()\n",
    "    return npimg,np.transpose(npimg, (1, 2, 0))\n",
    "\n",
    "fig = plt.figure(constrained_layout = True, figsize=(4, 4))\n",
    "axes = fig.subplots(nrows=2, ncols=2)\n",
    "for row in axes:\n",
    "    for col in row:\n",
    "        images, labels = next(iter(train_loader))\n",
    "        col.imshow(convert_image(torchvision.utils.make_grid(images[:1]))[1])\n",
    "        col.set_xticks([])\n",
    "        col.set_yticks([])"
   ]
  },
  {
   "cell_type": "markdown",
   "id": "8af2f40d-18dd-4ace-a386-f81fa7011b8a",
   "metadata": {
    "tags": []
   },
   "source": [
    "#### Building a baseline CNN model"
   ]
  },
  {
   "cell_type": "code",
   "execution_count": 6,
   "id": "8d34d594-5299-46da-97df-5a71871b9ece",
   "metadata": {},
   "outputs": [],
   "source": [
    "class baseline_CNN(nn.Module):\n",
    "    def __init__(self):\n",
    "        super(baseline_CNN, self).__init__()\n",
    "        self.network=nn.Sequential(\n",
    "            nn.Conv2d(3,32,3,padding=1),\n",
    "            nn.Conv2d(32,32,3,padding=1),\n",
    "            nn.MaxPool2d(2,2),\n",
    "            nn.Conv2d(32,64,3,padding=1),\n",
    "            nn.Conv2d(64,64,3,padding=1),\n",
    "            nn.MaxPool2d(2,2),\n",
    "            nn.Conv2d(64,128,3,padding=1),\n",
    "            nn.Conv2d(128,128,3,padding=1),\n",
    "            nn.MaxPool2d(2,2),\n",
    "            nn.Flatten(),\n",
    "            nn.Linear(2048, 512),\n",
    "            nn.Linear(512,43)\n",
    "            )\n",
    "\n",
    "    def forward(self, x):\n",
    "        return self.network(x)"
   ]
  },
  {
   "cell_type": "markdown",
   "id": "aa143238-a066-42bb-a050-526e913f14c0",
   "metadata": {},
   "source": [
    "#### Training and metrics calculation "
   ]
  },
  {
   "cell_type": "code",
   "execution_count": 7,
   "id": "5a49cb7e-d03d-4baa-a2dc-9fa3dc819377",
   "metadata": {},
   "outputs": [],
   "source": [
    "class model_implementation:\n",
    "    def __init__(self,model,criterion,optimizer):\n",
    "        self.model = model\n",
    "        self.criterion = criterion\n",
    "        self.optimizer = optimizer\n",
    "    \n",
    "    def training(self, val_loader, model_name, EPOCHS, writer):\n",
    "        \"\"\"Function for model training\"\"\"\n",
    "        for epoch in range(EPOCHS):  # loop over the dataset multiple times\n",
    "\n",
    "            running_loss = 0.0\n",
    "            for i, data in enumerate(train_loader, 0):\n",
    "                # get the inputs; data is a list of [inputs, labels]\n",
    "                inputs, labels = data\n",
    "                inputs, labels = inputs.to(device), labels.to(device)\n",
    "\n",
    "                # zero the parameter gradients\n",
    "                self.optimizer.zero_grad()\n",
    "\n",
    "                # forward + backward + optimize\n",
    "                outputs = self.model(inputs)\n",
    "                loss = self.criterion(outputs, labels)\n",
    "                loss.backward()\n",
    "                self.optimizer.step()\n",
    "\n",
    "                running_loss += loss.item()\n",
    "            #Calculate and print metrics to estimate performance of our models\n",
    "            print('Epoch %d, loss: %.6f' %\n",
    "                  (epoch + 1, running_loss/len(train_loader)))\n",
    "            train_metrics = self.prediction(train_loader)\n",
    "            val_metrics = self.prediction(val_loader)\n",
    "            print(\"Train:\\t Acc= %.1f\" % train_metrics[0],\"%\" , \" F1 = %.1f\" % train_metrics[1],\"%\")\n",
    "            print(\"Val:\\t Acc= %.1f\" % val_metrics[0],\"%\" , \" F1 = %.1f\" % val_metrics[1],\"%\")\n",
    "            \n",
    "            # log the epoch loss\n",
    "            writer.add_scalar('training loss',\n",
    "                            running_loss/len(train_loader),\n",
    "                            epoch)\n",
    "            # log the epoch accuracy and f1 of train\n",
    "            writer.add_scalar('training accuracy',\n",
    "                            train_metrics[0],\n",
    "                            epoch)\n",
    "            writer.add_scalar('training f1',\n",
    "                            train_metrics[1],\n",
    "                            epoch)   \n",
    "            # log the epoch accuracy and f1 of validation\n",
    "            writer.add_scalar('val accuracy',\n",
    "                            val_metrics[0],\n",
    "                            epoch)\n",
    "            writer.add_scalar('val f1',\n",
    "                            val_metrics[1],\n",
    "                            epoch) \n",
    "            \n",
    "    def prediction(self,loader):\n",
    "        \"\"\"Function for predict signs and metrics calculation\"\"\"\n",
    "        f1_metric = F1Score(task=\"multiclass\", average='weighted', num_classes=43).to(device)\n",
    "        correct = 0\n",
    "        total = 0\n",
    "        f1 = 0\n",
    "        with torch.no_grad():\n",
    "            for data in loader:\n",
    "                images, labels = data\n",
    "                images, labels = images.to(device), labels.to(device)\n",
    "                outputs = self.model(images)\n",
    "                _, predicted = torch.max(outputs.data, 1)\n",
    "                total += labels.size(0)\n",
    "                correct += (predicted == labels).sum().item()\n",
    "                f1 += f1_metric(predicted, labels) * 100\n",
    "        f1 /= len(loader)\n",
    "        accuracy = 100 * correct / total\n",
    "        return accuracy,f1       "
   ]
  },
  {
   "cell_type": "code",
   "execution_count": 8,
   "id": "eca8149c-88e6-4dc7-bcb6-d92c9a354594",
   "metadata": {},
   "outputs": [
    {
     "name": "stdout",
     "output_type": "stream",
     "text": [
      "Epoch 1, loss: 3.745251\n",
      "Train:\t Acc= 8.1 %  F1 = 1.7 %\n",
      "Val:\t Acc= 7.9 %  F1 = 1.5 %\n",
      "Epoch 2, loss: 3.693370\n",
      "Train:\t Acc= 6.6 %  F1 = 2.0 %\n",
      "Val:\t Acc= 6.6 %  F1 = 1.9 %\n",
      "Epoch 3, loss: 3.520769\n",
      "Train:\t Acc= 6.9 %  F1 = 2.3 %\n",
      "Val:\t Acc= 6.8 %  F1 = 2.1 %\n",
      "Epoch 4, loss: 3.438440\n",
      "Train:\t Acc= 10.1 %  F1 = 4.8 %\n",
      "Val:\t Acc= 10.3 %  F1 = 4.6 %\n",
      "Epoch 5, loss: 3.342886\n",
      "Train:\t Acc= 12.4 %  F1 = 8.9 %\n",
      "Val:\t Acc= 11.6 %  F1 = 7.9 %\n",
      "Epoch 6, loss: 3.253808\n",
      "Train:\t Acc= 14.8 %  F1 = 10.2 %\n",
      "Val:\t Acc= 13.7 %  F1 = 9.1 %\n",
      "Epoch 7, loss: 3.120185\n",
      "Train:\t Acc= 19.3 %  F1 = 16.3 %\n",
      "Val:\t Acc= 18.1 %  F1 = 14.9 %\n",
      "Epoch 8, loss: 2.838965\n",
      "Train:\t Acc= 29.7 %  F1 = 26.5 %\n",
      "Val:\t Acc= 28.6 %  F1 = 25.9 %\n",
      "Epoch 9, loss: 2.315170\n",
      "Train:\t Acc= 43.7 %  F1 = 42.4 %\n",
      "Val:\t Acc= 42.8 %  F1 = 42.0 %\n",
      "Epoch 10, loss: 1.759129\n",
      "Train:\t Acc= 54.8 %  F1 = 52.3 %\n",
      "Val:\t Acc= 53.5 %  F1 = 51.3 %\n",
      "Epoch 11, loss: 1.356889\n",
      "Train:\t Acc= 64.6 %  F1 = 63.9 %\n",
      "Val:\t Acc= 62.6 %  F1 = 61.0 %\n",
      "Epoch 12, loss: 1.032706\n",
      "Train:\t Acc= 72.2 %  F1 = 72.2 %\n",
      "Val:\t Acc= 69.2 %  F1 = 68.9 %\n",
      "Epoch 13, loss: 0.840670\n",
      "Train:\t Acc= 77.4 %  F1 = 76.1 %\n",
      "Val:\t Acc= 74.2 %  F1 = 72.8 %\n",
      "Epoch 14, loss: 0.663536\n",
      "Train:\t Acc= 82.4 %  F1 = 82.2 %\n",
      "Val:\t Acc= 78.6 %  F1 = 78.7 %\n",
      "Epoch 15, loss: 0.547867\n",
      "Train:\t Acc= 85.4 %  F1 = 85.5 %\n",
      "Val:\t Acc= 82.7 %  F1 = 82.8 %\n",
      "Epoch 16, loss: 0.449981\n",
      "Train:\t Acc= 86.1 %  F1 = 86.2 %\n",
      "Val:\t Acc= 83.2 %  F1 = 83.0 %\n",
      "Epoch 17, loss: 0.390314\n",
      "Train:\t Acc= 90.2 %  F1 = 90.0 %\n",
      "Val:\t Acc= 86.6 %  F1 = 86.4 %\n",
      "Epoch 18, loss: 0.317725\n",
      "Train:\t Acc= 92.5 %  F1 = 92.3 %\n",
      "Val:\t Acc= 88.8 %  F1 = 88.6 %\n",
      "Epoch 19, loss: 0.282505\n",
      "Train:\t Acc= 92.2 %  F1 = 92.0 %\n",
      "Val:\t Acc= 88.4 %  F1 = 88.0 %\n",
      "Epoch 20, loss: 0.250733\n",
      "Train:\t Acc= 93.6 %  F1 = 93.6 %\n",
      "Val:\t Acc= 89.8 %  F1 = 90.0 %\n",
      "\n",
      "Test:\t Acc= 90.1 %  F1 = 90.1 %\n"
     ]
    }
   ],
   "source": [
    "#Writer:\n",
    "writer = SummaryWriter('runs/Task2/Baseline')\n",
    "#Model initialization:\n",
    "model = baseline_CNN().to(device)\n",
    "criterion = nn.CrossEntropyLoss() \n",
    "optimizer = optim.SGD(model.parameters(), lr=0.001, momentum=0.9)\n",
    "#Training model:\n",
    "Baseline_CNN = model_implementation(model,criterion,optimizer)\n",
    "Baseline_CNN.training(val_loader,'baseline',EPOCHS=20,writer=writer)\n",
    "#Testing model:\n",
    "test_metrics = Baseline_CNN.prediction(test_loader)\n",
    "print(\"\\nTest:\\t Acc= %.1f\" % test_metrics[0],\"%\", \" F1 = %.1f\" % test_metrics[1],\"%\")"
   ]
  },
  {
   "cell_type": "markdown",
   "id": "659753c4-e0de-4952-b1d6-26469f4a1d84",
   "metadata": {},
   "source": [
    "#### Building an improved CNN model"
   ]
  },
  {
   "cell_type": "code",
   "execution_count": 9,
   "id": "86ab8c2a-eaa5-4bbd-bea4-587176c7a4fa",
   "metadata": {},
   "outputs": [],
   "source": [
    "class improved_CNN(nn.Module):\n",
    "    def __init__(self):\n",
    "        super(improved_CNN, self).__init__()\n",
    "        self.network=nn.Sequential(            \n",
    "            nn.Conv2d(3,32,3,padding=1),\n",
    "            nn.Dropout2d(0.25),\n",
    "            nn.ReLU(),\n",
    "            \n",
    "            nn.Conv2d(32,32,3,padding=1),\n",
    "            nn.MaxPool2d(2,2),\n",
    "            nn.ReLU(),\n",
    "            \n",
    "            nn.Conv2d(32,64,3,padding=1),\n",
    "            nn.BatchNorm2d(64),\n",
    "            nn.Dropout2d(0.25),\n",
    "            nn.ReLU(),\n",
    "            \n",
    "            nn.Conv2d(64,64,3,padding=1),\n",
    "            nn.MaxPool2d(2,2),\n",
    "            nn.ReLU(),\n",
    "            \n",
    "            nn.Conv2d(64,128,3,padding=1),\n",
    "            nn.BatchNorm2d(128),\n",
    "            nn.Dropout2d(0.25),\n",
    "            nn.ReLU(),\n",
    "            \n",
    "            nn.Conv2d(128,128,3,padding=1),\n",
    "            nn.ReLU(),\n",
    "            # nn.MaxPool2d(2,2),\n",
    "            nn.Flatten(),\n",
    "            \n",
    "            nn.Linear(8192, 4096),\n",
    "            nn.ReLU(),\n",
    "            nn.Dropout(0.25),\n",
    "            \n",
    "            nn.Linear(4096, 2048),\n",
    "            nn.ReLU(),\n",
    "            \n",
    "            nn.Linear(2048, 1024),\n",
    "            nn.ReLU(),\n",
    "              \n",
    "            nn.Linear(1024, 512),\n",
    "            nn.ReLU(),\n",
    "            \n",
    "            nn.Linear(512,43)\n",
    "            )\n",
    "\n",
    "    def forward(self, x):\n",
    "        return self.network(x)"
   ]
  },
  {
   "cell_type": "code",
   "execution_count": 10,
   "id": "d7c566cb-8bd6-47c4-8c68-5d5195a54e5f",
   "metadata": {},
   "outputs": [
    {
     "name": "stdout",
     "output_type": "stream",
     "text": [
      "Epoch 1, loss: 3.383790\n",
      "Train:\t Acc= 15.9 %  F1 = 8.0 %\n",
      "Val:\t Acc= 15.5 %  F1 = 7.6 %\n",
      "Epoch 2, loss: 1.925690\n",
      "Train:\t Acc= 54.0 %  F1 = 48.8 %\n",
      "Val:\t Acc= 53.0 %  F1 = 48.0 %\n",
      "Epoch 3, loss: 0.875061\n",
      "Train:\t Acc= 80.7 %  F1 = 78.9 %\n",
      "Val:\t Acc= 79.5 %  F1 = 78.0 %\n",
      "Epoch 4, loss: 0.393075\n",
      "Train:\t Acc= 90.8 %  F1 = 90.5 %\n",
      "Val:\t Acc= 89.4 %  F1 = 89.2 %\n",
      "Epoch 5, loss: 0.215287\n",
      "Train:\t Acc= 95.8 %  F1 = 95.7 %\n",
      "Val:\t Acc= 94.6 %  F1 = 94.7 %\n",
      "Epoch 6, loss: 0.147957\n",
      "Train:\t Acc= 96.2 %  F1 = 96.2 %\n",
      "Val:\t Acc= 94.6 %  F1 = 94.6 %\n",
      "Epoch 7, loss: 0.102265\n",
      "Train:\t Acc= 97.2 %  F1 = 97.2 %\n",
      "Val:\t Acc= 96.2 %  F1 = 96.2 %\n",
      "Epoch 8, loss: 0.091801\n",
      "Train:\t Acc= 97.7 %  F1 = 97.7 %\n",
      "Val:\t Acc= 96.3 %  F1 = 96.5 %\n",
      "Epoch 9, loss: 0.078184\n",
      "Train:\t Acc= 98.8 %  F1 = 98.8 %\n",
      "Val:\t Acc= 97.7 %  F1 = 97.7 %\n",
      "Epoch 10, loss: 0.057499\n",
      "Train:\t Acc= 98.6 %  F1 = 98.6 %\n",
      "Val:\t Acc= 97.7 %  F1 = 97.6 %\n",
      "Epoch 11, loss: 0.063765\n",
      "Train:\t Acc= 99.0 %  F1 = 99.0 %\n",
      "Val:\t Acc= 97.6 %  F1 = 97.7 %\n",
      "Epoch 12, loss: 0.037180\n",
      "Train:\t Acc= 99.3 %  F1 = 99.2 %\n",
      "Val:\t Acc= 98.1 %  F1 = 98.2 %\n",
      "Epoch 13, loss: 0.030681\n",
      "Train:\t Acc= 99.1 %  F1 = 99.1 %\n",
      "Val:\t Acc= 97.6 %  F1 = 97.7 %\n",
      "Epoch 14, loss: 0.037628\n",
      "Train:\t Acc= 99.1 %  F1 = 99.2 %\n",
      "Val:\t Acc= 97.6 %  F1 = 97.7 %\n",
      "Epoch 15, loss: 0.041721\n",
      "Train:\t Acc= 98.5 %  F1 = 98.5 %\n",
      "Val:\t Acc= 97.1 %  F1 = 97.2 %\n",
      "Epoch 16, loss: 0.041852\n",
      "Train:\t Acc= 99.2 %  F1 = 99.3 %\n",
      "Val:\t Acc= 98.2 %  F1 = 98.3 %\n",
      "Epoch 17, loss: 0.024401\n",
      "Train:\t Acc= 99.0 %  F1 = 99.0 %\n",
      "Val:\t Acc= 97.5 %  F1 = 97.6 %\n",
      "Epoch 18, loss: 0.019738\n",
      "Train:\t Acc= 99.5 %  F1 = 99.5 %\n",
      "Val:\t Acc= 98.3 %  F1 = 98.2 %\n",
      "Epoch 19, loss: 0.021972\n",
      "Train:\t Acc= 99.1 %  F1 = 99.1 %\n",
      "Val:\t Acc= 97.4 %  F1 = 97.5 %\n",
      "Epoch 20, loss: 0.026855\n",
      "Train:\t Acc= 99.6 %  F1 = 99.6 %\n",
      "Val:\t Acc= 98.9 %  F1 = 98.8 %\n",
      "\n",
      "Test:\t Acc= 98.6 %  F1 = 98.6 %\n"
     ]
    }
   ],
   "source": [
    "#Writer:\n",
    "writer = SummaryWriter('runs/Task2/Imroved')\n",
    "#Model initialization:\n",
    "Model_improved = improved_CNN().to(device)\n",
    "criterion = nn.CrossEntropyLoss() \n",
    "optimizer = optim.Adam(Model_improved.parameters(), lr=0.001)\n",
    "\n",
    "#Training model:\n",
    "Improved_CNN = model_implementation(Model_improved,criterion,optimizer)\n",
    "Improved_CNN.training(val_loader,'improved',EPOCHS=20,writer=writer)\n",
    "\n",
    "#Testing model:\n",
    "test_metrics = Improved_CNN.prediction(test_loader)\n",
    "print(\"\\nTest:\\t Acc= %.1f\" % test_metrics[0],\"%\", \" F1 = %.1f\" % test_metrics[1],\"%\")"
   ]
  },
  {
   "cell_type": "markdown",
   "id": "2a780723-581b-4b99-aa9f-ecfd578d2a51",
   "metadata": {},
   "source": [
    "***Conclusion of Task 1:*** CNN models with different architectures were built and compared with each other. Based on the obtained metric values, it can be judged that the improved model trains faster, and thus achieves higher accuracy and f1-points. I would also like to note the influence of the ***batch size*** hyperparameter on the process of model training. With its high value, the model trains faster, but shows a slightly lower result.\n",
    "    <br>"
   ]
  },
  {
   "cell_type": "markdown",
   "id": "1200c8ca-a2de-4023-b12a-f481f7d47e79",
   "metadata": {},
   "source": [
    "<span style='color:Blue ;\n",
    "             font-size:20px;'>\n",
    "    Task 2.  </span><br>"
   ]
  },
  {
   "cell_type": "markdown",
   "id": "dea35f94-6868-4086-bb5e-30f9a1424c20",
   "metadata": {},
   "source": [
    "**Main goal of Task 2:** Complete the goal of the previous task using transfer learning approach with parameters reduced loaded neural network. <br>\n",
    "<br>"
   ]
  },
  {
   "cell_type": "markdown",
   "id": "305b51be-013f-489b-b0e6-fea795885320",
   "metadata": {},
   "source": [
    "**Task 2 steps:** <br>\n",
    "    **a,b,c,d,e)** See previous task :)   \n",
    "    **f) Loading a pre-trained model:** <br>\n",
    "    To accomplish the task, the Alexnet neural network was used.The 2012 ImageNet winner achieved a top-5 error of 15.3%, more than 10.8 percentage points lower than that of the runner up.<br>\n",
    "    **g) Building a transfer learning model:** <br>\n",
    "    To apply the loaded neural network, the dimensions of fully-connected layers have been changed.<br>\n",
    "    **h) Сhanging the architecture of the loaded neural network for better model performance:** <br>\n",
    "    The number of fully-connected layers has been reduced to one. However, the model achieved higher accuracy. Therefore, Dropout was added in addition, which made it possible to reduce the accuracy of the model.\n",
    "    **h) Training and metrics calculation:** <br>\n",
    "    During the training, the accuracy and f1-score were calculated on the train and validation dataset. Also the data was uploaded to tensorboard. After 10 epochs, the model was tested on a test dataset. Values of the selected metrics: <br>\n",
    "    *Default AlexNet:*<br>\n",
    "    Train: Acc= 97.5%  F1 = 97.4% <br>\n",
    "    Val: Acc= 95.5%  F1 = 95.5% <br>\n",
    "    Test: Acc= 95.3%  F1 = 95.1% <br>\n",
    "    *Reduced AlexNet:*<br>\n",
    "    Train: Acc= 93.0%  F1 = 93.0% <br>\n",
    "    Val: Acc= 90.4%  F1 = 90.9% <br>\n",
    "    Test: Acc= 90.8%  F1 = 90.8% <br> \n",
    "    **i) Comparison of models:** <br>\n",
    "    The obtained data of the parameters of neural networks and the necessary metrics were recorded in the Dataframe. As you can see, the number of parameters has decreased by a factor of 20, while the accuracy of the model has fallen by less than 5%.<br>"
   ]
  },
  {
   "cell_type": "markdown",
   "id": "e9dfc964-1f9f-4bf7-a64d-b4a15b178766",
   "metadata": {},
   "source": [
    "#### Loading a pre-trained model"
   ]
  },
  {
   "cell_type": "code",
   "execution_count": 11,
   "id": "6f2293df-c03f-433e-9b8d-4c3e688ecf4c",
   "metadata": {},
   "outputs": [
    {
     "name": "stderr",
     "output_type": "stream",
     "text": [
      "C:\\Users\\Amir\\anaconda3\\lib\\site-packages\\torchvision\\models\\_utils.py:208: UserWarning: The parameter 'pretrained' is deprecated since 0.13 and may be removed in the future, please use 'weights' instead.\n",
      "  warnings.warn(\n",
      "C:\\Users\\Amir\\anaconda3\\lib\\site-packages\\torchvision\\models\\_utils.py:223: UserWarning: Arguments other than a weight enum or `None` for 'weights' are deprecated since 0.13 and may be removed in the future. The current behavior is equivalent to passing `weights=AlexNet_Weights.IMAGENET1K_V1`. You can also use `weights=AlexNet_Weights.DEFAULT` to get the most up-to-date weights.\n",
      "  warnings.warn(msg)\n",
      "Downloading: \"https://download.pytorch.org/models/alexnet-owt-7be5be79.pth\" to C:\\Users\\Amir/.cache\\torch\\hub\\checkpoints\\alexnet-owt-7be5be79.pth\n",
      "100%|███████████████████████████████████████████████████████████████████████████████| 233M/233M [00:15<00:00, 15.6MB/s]\n"
     ]
    },
    {
     "data": {
      "text/plain": [
       "AlexNet(\n",
       "  (features): Sequential(\n",
       "    (0): Conv2d(3, 64, kernel_size=(11, 11), stride=(4, 4), padding=(2, 2))\n",
       "    (1): ReLU(inplace=True)\n",
       "    (2): MaxPool2d(kernel_size=3, stride=2, padding=0, dilation=1, ceil_mode=False)\n",
       "    (3): Conv2d(64, 192, kernel_size=(5, 5), stride=(1, 1), padding=(2, 2))\n",
       "    (4): ReLU(inplace=True)\n",
       "    (5): MaxPool2d(kernel_size=3, stride=2, padding=0, dilation=1, ceil_mode=False)\n",
       "    (6): Conv2d(192, 384, kernel_size=(3, 3), stride=(1, 1), padding=(1, 1))\n",
       "    (7): ReLU(inplace=True)\n",
       "    (8): Conv2d(384, 256, kernel_size=(3, 3), stride=(1, 1), padding=(1, 1))\n",
       "    (9): ReLU(inplace=True)\n",
       "    (10): Conv2d(256, 256, kernel_size=(3, 3), stride=(1, 1), padding=(1, 1))\n",
       "    (11): ReLU(inplace=True)\n",
       "    (12): MaxPool2d(kernel_size=3, stride=2, padding=0, dilation=1, ceil_mode=False)\n",
       "  )\n",
       "  (avgpool): AdaptiveAvgPool2d(output_size=(6, 6))\n",
       "  (classifier): Sequential(\n",
       "    (0): Dropout(p=0.5, inplace=False)\n",
       "    (1): Linear(in_features=9216, out_features=4096, bias=True)\n",
       "    (2): ReLU(inplace=True)\n",
       "    (3): Dropout(p=0.5, inplace=False)\n",
       "    (4): Linear(in_features=4096, out_features=4096, bias=True)\n",
       "    (5): ReLU(inplace=True)\n",
       "    (6): Linear(in_features=4096, out_features=1000, bias=True)\n",
       "  )\n",
       ")"
      ]
     },
     "execution_count": 11,
     "metadata": {},
     "output_type": "execute_result"
    }
   ],
   "source": [
    "Alexnet_default = models.alexnet(pretrained=True)\n",
    "Alexnet_default.eval()"
   ]
  },
  {
   "cell_type": "markdown",
   "id": "05abd0ac-0449-4e8a-a9ef-21ef60a26385",
   "metadata": {},
   "source": [
    "Creating identity class for mute layers in network"
   ]
  },
  {
   "cell_type": "code",
   "execution_count": 12,
   "id": "64aa0537-6500-441b-9cc1-1e18d3a3869b",
   "metadata": {},
   "outputs": [],
   "source": [
    "class Identity(torch.nn.Module):\n",
    "    def __init__(self):\n",
    "        super(Identity, self).__init__()\n",
    "    def forward(self, x):\n",
    "        return x"
   ]
  },
  {
   "cell_type": "markdown",
   "id": "eec1ede0-1a37-4d99-afe1-7f9eac7eab37",
   "metadata": {},
   "source": [
    "#### Building a transfer learning models with defaul and reduced parameters:"
   ]
  },
  {
   "cell_type": "code",
   "execution_count": 13,
   "id": "7cc29f39-cddd-4f04-88ac-ba426f046b71",
   "metadata": {},
   "outputs": [],
   "source": [
    "#Initialization reduced model\n",
    "Alexnet_reduced = models.alexnet(pretrained=True)\n",
    "Alexnet_reduced.eval()\n",
    "#spike\n",
    "Alexnet_default.features[2] = Identity()\n",
    "Alexnet_reduced.features[2] = Identity()\n",
    "#Updating the last classifier that is the output layer of the network\n",
    "Alexnet_default.classifier[6] = nn.Linear(4096,43)\n",
    "Alexnet_reduced.classifier[6] = nn.Linear(1024,43)\n",
    "\n",
    "#Reduce number of hidden units in default model to reduce parameters:\n",
    "Alexnet_reduced.classifier[1] = nn.Linear(9216,43)\n",
    "Alexnet_reduced.classifier[2] = Identity()\n",
    "Alexnet_reduced.classifier[4] = Identity()\n",
    "Alexnet_reduced.classifier[5] = Identity()\n",
    "Alexnet_reduced.classifier[6] = Identity()\n",
    "\n",
    "Alexnet_reduced.features[1] = nn.Dropout(p=0.08, inplace=False)\n",
    "\n",
    "#Switch to CUDA:\n",
    "Alexnet_default = Alexnet_default.to(device)\n",
    "Alexnet_reduced = Alexnet_reduced.to(device)"
   ]
  },
  {
   "cell_type": "markdown",
   "id": "a1c1c0ac-2113-473b-a17e-444c3a53a6f7",
   "metadata": {},
   "source": [
    "#### Default model evaluating"
   ]
  },
  {
   "cell_type": "code",
   "execution_count": 14,
   "id": "5cd6be6d-def0-4272-bbe4-e157c38a0170",
   "metadata": {},
   "outputs": [
    {
     "name": "stdout",
     "output_type": "stream",
     "text": [
      "Epoch 1, loss: 1.496027\n",
      "Train:\t Acc= 82.0 %  F1 = 81.6 %\n",
      "Val:\t Acc= 80.3 %  F1 = 80.1 %\n",
      "Epoch 2, loss: 0.410610\n",
      "Train:\t Acc= 90.4 %  F1 = 90.1 %\n",
      "Val:\t Acc= 88.6 %  F1 = 88.1 %\n",
      "Epoch 3, loss: 0.249575\n",
      "Train:\t Acc= 94.3 %  F1 = 94.2 %\n",
      "Val:\t Acc= 91.8 %  F1 = 91.8 %\n",
      "Epoch 4, loss: 0.183656\n",
      "Train:\t Acc= 96.7 %  F1 = 96.8 %\n",
      "Val:\t Acc= 95.0 %  F1 = 95.2 %\n",
      "Epoch 5, loss: 0.126554\n",
      "Train:\t Acc= 97.1 %  F1 = 97.1 %\n",
      "Val:\t Acc= 95.1 %  F1 = 95.0 %\n",
      "Epoch 6, loss: 0.146982\n",
      "Train:\t Acc= 92.5 %  F1 = 92.0 %\n",
      "Val:\t Acc= 89.8 %  F1 = 89.0 %\n",
      "Epoch 7, loss: 0.196281\n",
      "Train:\t Acc= 94.7 %  F1 = 94.6 %\n",
      "Val:\t Acc= 93.0 %  F1 = 92.9 %\n",
      "Epoch 8, loss: 0.128201\n",
      "Train:\t Acc= 96.0 %  F1 = 95.9 %\n",
      "Val:\t Acc= 94.2 %  F1 = 94.2 %\n",
      "Epoch 9, loss: 0.110189\n",
      "Train:\t Acc= 96.7 %  F1 = 96.7 %\n",
      "Val:\t Acc= 95.6 %  F1 = 95.7 %\n",
      "Epoch 10, loss: 0.101255\n",
      "Train:\t Acc= 98.4 %  F1 = 98.4 %\n",
      "Val:\t Acc= 97.0 %  F1 = 97.1 %\n",
      "\n",
      "Test:\t Acc= 96.8 %  F1 = 96.9 %\n"
     ]
    }
   ],
   "source": [
    "#Writer:\n",
    "writer = SummaryWriter('runs/Task2_2/Default')\n",
    "#Model criterion and optimizer\n",
    "criterion = nn.CrossEntropyLoss() \n",
    "optimizer = optim.Adam(Alexnet_default.parameters(), lr=0.001)\n",
    "\n",
    "#Training default model:\n",
    "Transfer_CNN = model_implementation(Alexnet_default,criterion,optimizer)\n",
    "Transfer_CNN.training(val_loader,'transfer',EPOCHS=10,writer=writer)\n",
    "\n",
    "#Testing model:\n",
    "test_metrics = Transfer_CNN.prediction(test_loader)\n",
    "print(\"\\nTest:\\t Acc= %.1f\" % test_metrics[0],\"%\", \" F1 = %.1f\" % test_metrics[1],\"%\")"
   ]
  },
  {
   "cell_type": "markdown",
   "id": "d5671955-0c54-4e13-97d6-f13fa1b526af",
   "metadata": {},
   "source": [
    "#### Reduced model evaluating"
   ]
  },
  {
   "cell_type": "code",
   "execution_count": 15,
   "id": "94c83c5c-70fe-4896-9493-ff9f27b5f398",
   "metadata": {},
   "outputs": [
    {
     "name": "stdout",
     "output_type": "stream",
     "text": [
      "Epoch 1, loss: 3.514151\n",
      "Train:\t Acc= 11.9 %  F1 = 6.2 %\n",
      "Val:\t Acc= 12.1 %  F1 = 5.9 %\n",
      "Epoch 2, loss: 3.258506\n",
      "Train:\t Acc= 19.0 %  F1 = 14.0 %\n",
      "Val:\t Acc= 18.9 %  F1 = 14.0 %\n",
      "Epoch 3, loss: 2.221596\n",
      "Train:\t Acc= 43.2 %  F1 = 37.0 %\n",
      "Val:\t Acc= 41.7 %  F1 = 35.8 %\n",
      "Epoch 4, loss: 1.272762\n",
      "Train:\t Acc= 65.4 %  F1 = 62.0 %\n",
      "Val:\t Acc= 63.6 %  F1 = 60.6 %\n",
      "Epoch 5, loss: 0.814632\n",
      "Train:\t Acc= 80.9 %  F1 = 80.4 %\n",
      "Val:\t Acc= 79.7 %  F1 = 79.1 %\n",
      "Epoch 6, loss: 0.430134\n",
      "Train:\t Acc= 88.2 %  F1 = 87.8 %\n",
      "Val:\t Acc= 85.4 %  F1 = 84.9 %\n",
      "Epoch 7, loss: 0.275625\n",
      "Train:\t Acc= 91.7 %  F1 = 91.3 %\n",
      "Val:\t Acc= 88.8 %  F1 = 88.3 %\n",
      "Epoch 8, loss: 0.178225\n",
      "Train:\t Acc= 92.5 %  F1 = 92.2 %\n",
      "Val:\t Acc= 90.1 %  F1 = 89.8 %\n",
      "Epoch 9, loss: 0.187692\n",
      "Train:\t Acc= 95.1 %  F1 = 95.0 %\n",
      "Val:\t Acc= 92.3 %  F1 = 92.2 %\n",
      "Epoch 10, loss: 0.135712\n",
      "Train:\t Acc= 95.3 %  F1 = 95.3 %\n",
      "Val:\t Acc= 92.9 %  F1 = 93.0 %\n",
      "\n",
      "Test:\t Acc= 93.3 %  F1 = 93.3 %\n"
     ]
    }
   ],
   "source": [
    "#Writer:\n",
    "writer = SummaryWriter('runs/Task2_2/Reduced')\n",
    "#Model criterion and optimizer\n",
    "criterion = nn.CrossEntropyLoss() \n",
    "optimizer = optim.Adam(Alexnet_reduced.parameters(), lr=0.001)\n",
    "\n",
    "#Training default model:\n",
    "Reduced_CNN = model_implementation(Alexnet_reduced,criterion,optimizer)\n",
    "Reduced_CNN.training(val_loader,'transfer',EPOCHS=10,writer=writer)\n",
    "\n",
    "#Testing model:\n",
    "test_metrics = Reduced_CNN.prediction(test_loader)\n",
    "print(\"\\nTest:\\t Acc= %.1f\" % test_metrics[0],\"%\", \" F1 = %.1f\" % test_metrics[1],\"%\")"
   ]
  },
  {
   "cell_type": "markdown",
   "id": "43b79700-1056-48a1-a64d-8c404f846320",
   "metadata": {},
   "source": [
    "#### Comparison of models"
   ]
  },
  {
   "cell_type": "code",
   "execution_count": 16,
   "id": "bf12c232-8302-4bf6-af40-8c0068f67372",
   "metadata": {},
   "outputs": [
    {
     "data": {
      "text/html": [
       "<div>\n",
       "<style scoped>\n",
       "    .dataframe tbody tr th:only-of-type {\n",
       "        vertical-align: middle;\n",
       "    }\n",
       "\n",
       "    .dataframe tbody tr th {\n",
       "        vertical-align: top;\n",
       "    }\n",
       "\n",
       "    .dataframe thead th {\n",
       "        text-align: right;\n",
       "    }\n",
       "</style>\n",
       "<table border=\"1\" class=\"dataframe\">\n",
       "  <thead>\n",
       "    <tr style=\"text-align: right;\">\n",
       "      <th></th>\n",
       "      <th>Accuracy</th>\n",
       "      <th>F1-score</th>\n",
       "      <th>Number of parameters</th>\n",
       "    </tr>\n",
       "  </thead>\n",
       "  <tbody>\n",
       "    <tr>\n",
       "      <th>Default AlexNet</th>\n",
       "      <td>96.828078</td>\n",
       "      <td>96.857895</td>\n",
       "      <td>57180011</td>\n",
       "    </tr>\n",
       "    <tr>\n",
       "      <th>Reduced AlexNet</th>\n",
       "      <td>92.905405</td>\n",
       "      <td>92.88863</td>\n",
       "      <td>2866027</td>\n",
       "    </tr>\n",
       "  </tbody>\n",
       "</table>\n",
       "</div>"
      ],
      "text/plain": [
       "                  Accuracy   F1-score  Number of parameters\n",
       "Default AlexNet  96.828078  96.857895              57180011\n",
       "Reduced AlexNet  92.905405   92.88863               2866027"
      ]
     },
     "execution_count": 16,
     "metadata": {},
     "output_type": "execute_result"
    }
   ],
   "source": [
    "def parameters_counter(model):\n",
    "    \"\"\"Function for calculation model parameters\"\"\"\n",
    "    return sum(p.numel() for p in model.parameters())\n",
    "def metrics(Instance):\n",
    "    \"\"\"Function for calculation model accuracy and f1-score\"\"\"\n",
    "    return\n",
    "#Create a dataframe, containing model performance parameters:\n",
    "Accuracy_list , F1_list , Param_list = [],[],[]\n",
    "Models = [Alexnet_default,Alexnet_reduced]\n",
    "Instances = [Transfer_CNN,Reduced_CNN]\n",
    "for i in range(2):\n",
    "    metrics = Instances[i].prediction(test_loader)\n",
    "    Accuracy_list.append(metrics[0])\n",
    "    F1_list.append(metrics[1].cpu().detach().numpy())\n",
    "    Param_list.append(parameters_counter(Models[i]))\n",
    " \n",
    "d = {'Accuracy' : Accuracy_list , 'F1-score' : F1_list, 'Number of parameters' : Param_list}\n",
    "Metrics_Df = pd.DataFrame(data=d, index=[\"Default AlexNet\"\n",
    "                                         ,\"Reduced AlexNet\"])\n",
    "Metrics_Df.head()"
   ]
  },
  {
   "cell_type": "markdown",
   "id": "a4c5429b-85b5-47c6-b6de-8d540b92fd45",
   "metadata": {},
   "source": [
    "***Conclusion of Task 2:*** In conclusion, I would like to note that reducing the parameters does not always lead to a decrease in accuracy, because during the initial runs of the modified model with a reduced number of linear layers, the accuracy only increased. When discarding part of the images for training (dropout), the metrics decreased."
   ]
  },
  {
   "cell_type": "markdown",
   "id": "f8c764ea-fd75-4638-816b-3ec8d73d2c4e",
   "metadata": {},
   "source": [
    "******"
   ]
  },
  {
   "cell_type": "markdown",
   "id": "fc0fc08a-11a6-48fc-8be3-a31895752e56",
   "metadata": {},
   "source": [
    "**Main goal of Task 1:** Implementation a traffic sign classification convolutional neural network which\n",
    "will be trained on German Traffic Sign Recognition Benchmark dataset. <br>\n",
    "<br>\n",
    "**Task 1 steps:** <br>\n",
    "    **a) Loading dataset:** <br>\n",
    "    The uploaded dataset containing photos of road signs consists of 43 classes related to the type of road signs. <br>\n",
    "   **b) Setting up TensorBoard:** <br>\n",
    "    An object of class SummaryWriter from torch.utils.tensorboard was created. <br>\n",
    "    **c) Splitting the data Training (70%) and validation (10%) and Testing (20%):** <br>\n",
    "    The loaded dataset was split into train, test and validation with the shapes specified in the task. For verification, their percentages were calculated. <br>\n",
    "    **d) Creating Data loaders:** <br>\n",
    "    Train,validation and test images were successfully converted the to tensors. <br>\n",
    "    **e) Data visualization:** <br>\n",
    "    For example, 4 images were plotted.<br>\n",
    "    **f) Building a baseline CNN model:** <br>\n",
    "    The base line model is to be trained on 20 epochs, SGD optimizer, learning rate 0.001. The architecture of the CNN was specified in the task. <br>\n",
    "    **g) Training and metrics calculation:** <br>\n",
    "    During the training, the accuracy and f1-score were calculated on the train and validation dataset. Also the data was uploaded to tensorboard. After 20 epochs, the model was tested on a test dataset. Values of the selected metrics: <br>\n",
    "    Train: Acc= 95.8%  F1 = 95.8% <br>\n",
    "    Val: Acc= 91.8%  F1 = 91.8% <br>\n",
    "    Test: Acc= 91.9%  F1 = 91.9% <br>\n",
    "    **h) Building an improved CNN model:** <br>\n",
    "    The following functions have been almost randomly added to the architecture of baseline CNN, but Adam optimizer was selected instead of Stochastic gradient descent: <br>\n",
    "    1)nn.Dropout2d() - A regularization method in machine learning where the randomly selected neurons are dropped from the neural network to avoid overfitting <br>\n",
    "    2)nn.ReLU() - The most commonly used activation function in ML, which makes the layers as non-linear layers. <br>\n",
    "    3)nn.BatchNorm2d() - Accelerate Deep Network training by reducing internal covariate shift. <br>\n",
    "    **i) Training and metrics calculation:** <br>\n",
    "    During the training, the accuracy and f1-score were calculated on the train and validation dataset. Also the data was uploaded to tensorboard. After 20 epochs, the model was tested on a test dataset. Values of the selected metrics: <br>\n",
    "    Train: Acc= 98.8%  F1 = 98.8% <br>\n",
    "    Val: Acc= 97.6%  F1 = 97.6% <br>\n",
    "    Test: Acc= 97.9%  F1 = 97.9% <br>\n",
    "    ***Conclusion of Task 1:*** CNN models with different architectures were built and compared with each other. Based on the obtained metric values, it can be judged that the improved model trains faster, and thus achieves higher accuracy and f1-points. I would also like to note the influence of the ***batch size*** hyperparameter on the process of model training. With its high value, the model trains faster, but shows a slightly lower result.\n",
    "    <br>"
   ]
  },
  {
   "cell_type": "markdown",
   "id": "2869af1d-2fd1-43f6-b208-9628f50fa5b2",
   "metadata": {},
   "source": [
    "**Main goal of Task 2:** Complete the goal of the previous task using transfer learning approach with parameters reduced loaded neural network. <br>\n",
    "<br>\n",
    "**Task 2.2 steps:** <br>\n",
    "    **a,b,c,d,e)** See previous task :)   \n",
    "    **f) Loading a pre-trained model:** <br>\n",
    "    To accomplish the task, the Alexnet neural network was used.The 2012 ImageNet winner achieved a top-5 error of 15.3%, more than 10.8 percentage points lower than that of the runner up.<br>\n",
    "    **g) Building a transfer learning model:** <br>\n",
    "    To apply the loaded neural network, the dimensions of fully-connected layers have been changed.<br>\n",
    "    **h) Сhanging the architecture of the loaded neural network for better model performance:** <br>\n",
    "    The number of fully-connected layers has been reduced to one. However, the model achieved higher accuracy. Therefore, Dropout was added in addition, which made it possible to reduce the accuracy of the model.\n",
    "    **h) Training and metrics calculation:** <br>\n",
    "    During the training, the accuracy and f1-score were calculated on the train and validation dataset. Also the data was uploaded to tensorboard. After 10 epochs, the model was tested on a test dataset. Values of the selected metrics: <br>\n",
    "    *Default AlexNet:*<br>\n",
    "    Train: Acc= 97.5%  F1 = 97.4% <br>\n",
    "    Val: Acc= 95.5%  F1 = 95.5% <br>\n",
    "    Test: Acc= 95.3%  F1 = 95.1% <br>\n",
    "    *Reduced AlexNet:*<br>\n",
    "    Train: Acc= 93.0%  F1 = 93.0% <br>\n",
    "    Val: Acc= 90.4%  F1 = 90.9% <br>\n",
    "    Test: Acc= 90.8%  F1 = 90.8% <br> \n",
    "    **i) Comparison of models:** <br>\n",
    "    The obtained data of the parameters of neural networks and the necessary metrics were recorded in the Dataframe. As you can see, the number of parameters has decreased by a factor of 20, while the accuracy of the model has fallen by less than 5%.<br>\n",
    "    ***Conclusion of Task 2:*** In conclusion, I would like to note that reducing the parameters does not always lead to a decrease in accuracy, because during the initial runs of the modified model with a reduced number of linear layers, the accuracy only increased. When discarding part of the images for training (dropout), the metrics decreased.\n",
    "    <br>"
   ]
  }
 ],
 "metadata": {
  "kernelspec": {
   "display_name": "Python 3 (ipykernel)",
   "language": "python",
   "name": "python3"
  },
  "language_info": {
   "codemirror_mode": {
    "name": "ipython",
    "version": 3
   },
   "file_extension": ".py",
   "mimetype": "text/x-python",
   "name": "python",
   "nbconvert_exporter": "python",
   "pygments_lexer": "ipython3",
   "version": "3.9.13"
  }
 },
 "nbformat": 4,
 "nbformat_minor": 5
}
